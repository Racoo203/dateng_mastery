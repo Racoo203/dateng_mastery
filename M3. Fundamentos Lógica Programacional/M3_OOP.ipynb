{
  "nbformat": 4,
  "nbformat_minor": 0,
  "metadata": {
    "colab": {
      "provenance": [],
      "authorship_tag": "ABX9TyNjIm2VK2Z3VU4VGo3Akui/",
      "include_colab_link": true
    },
    "kernelspec": {
      "name": "python3",
      "display_name": "Python 3"
    },
    "language_info": {
      "name": "python"
    }
  },
  "cells": [
    {
      "cell_type": "markdown",
      "metadata": {
        "id": "view-in-github",
        "colab_type": "text"
      },
      "source": [
        "<a href=\"https://colab.research.google.com/github/Racoo203/dateng_mastery/blob/main/M3.%20Fundamentos%20L%C3%B3gica%20Programacional/M3_OOP.ipynb\" target=\"_parent\"><img src=\"https://colab.research.google.com/assets/colab-badge.svg\" alt=\"Open In Colab\"/></a>"
      ]
    },
    {
      "cell_type": "code",
      "execution_count": 1,
      "metadata": {
        "id": "7ZSrTUuYd_mC"
      },
      "outputs": [],
      "source": [
        "class Penguin():\n",
        "  def __init__(self):\n",
        "    print(\"Hi\")"
      ]
    },
    {
      "cell_type": "code",
      "source": [
        "Penguin()"
      ],
      "metadata": {
        "colab": {
          "base_uri": "https://localhost:8080/"
        },
        "id": "0xSFjsc7eM3a",
        "outputId": "e7053bc6-a6a5-4e9e-f7bc-e3428bdb457a"
      },
      "execution_count": 2,
      "outputs": [
        {
          "output_type": "stream",
          "name": "stdout",
          "text": [
            "Hi\n"
          ]
        },
        {
          "output_type": "execute_result",
          "data": {
            "text/plain": [
              "<__main__.Penguin at 0x7bc661356750>"
            ]
          },
          "metadata": {},
          "execution_count": 2
        }
      ]
    }
  ]
}